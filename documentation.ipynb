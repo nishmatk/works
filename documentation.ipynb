{
  "nbformat": 4,
  "nbformat_minor": 0,
  "metadata": {
    "colab": {
      "name": "Untitled",
      "version": "0.3.2",
      "provenance": [],
      "include_colab_link": true
    },
    "kernelspec": {
      "name": "python3",
      "display_name": "Python 3"
    }
  },
  "cells": [
    {
      "cell_type": "markdown",
      "metadata": {
        "id": "view-in-github",
        "colab_type": "text"
      },
      "source": [
        "<a href=\"https://colab.research.google.com/github/nishmatk/works/blob/master/documentation.ipynb\" target=\"_parent\"><img src=\"https://colab.research.google.com/assets/colab-badge.svg\" alt=\"Open In Colab\"/></a>"
      ]
    },
    {
      "cell_type": "markdown",
      "metadata": {
        "id": "j091TpJzMQng",
        "colab_type": "text"
      },
      "source": [
        ""
      ]
    },
    {
      "cell_type": "markdown",
      "metadata": {
        "colab_type": "text",
        "id": "I9QPXf38Vm3Q"
      },
      "source": [
        "***MACHINE  LEARNING***\n",
        "\n",
        " Machine learning is a branch of science that deals with programming the systems in such a way that they automatically learn and improve with experience. Here, learning means recognizing and understanding the input data and making wise decisions based on the supplied data.\n",
        " \n",
        "\n",
        "---\n",
        "\n",
        "\n",
        " \n",
        " There are several ways to implement machine learning techniques, however the most commonly used ones are **supervised** and **unsupervised learning.**\n",
        " \n",
        "\n",
        "\n",
        "\n",
        "*   ***SUPERVISED LEARNING***\n",
        "\n",
        "       Supervised learning deals with learning a function from available training data. A supervised learning algorithm analyzes the training data and produces an inferred function, which can be used for mapping new examples\n",
        "  \n",
        "       Common examples of supervised learning include:\n",
        "    \n",
        "   *     classifying e-mails as spam,\n",
        "   *     voice recognition\n",
        "   *   labeling webpages based on their content\n",
        "\n",
        "*   ***UNSUPERVISED LEARNING***\n",
        "\n",
        "       Unsupervised learning makes sense of unlabeled data without having any predefined dataset for its training. Unsupervised learning is an extremely powerful tool for analyzing available data and look for patterns and trends. It is most commonly used for clustering similar input into logical groups.\n",
        "       \n",
        "       Common approaches to unsupervised learning include:\n",
        "        \n",
        "   *   k-means\n",
        " \n",
        "   *   self-organizing maps\n",
        "\n",
        "   *   hierarchical clustering\n",
        "   \n",
        "\n",
        "---\n",
        "\n",
        "\n",
        "\n",
        "\n",
        "\n",
        "\n",
        "        \n",
        " \n",
        "\n",
        "\n",
        "\n",
        "\n",
        "\n",
        "\n",
        "\n",
        "\n",
        "\n",
        "\n",
        "\n",
        "\n",
        "\n",
        "\n"
      ]
    },
    {
      "cell_type": "markdown",
      "metadata": {
        "id": "3UiP9nZygHDF",
        "colab_type": "text"
      },
      "source": [
        ""
      ]
    }
  ]
}