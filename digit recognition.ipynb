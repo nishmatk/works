{
  "nbformat": 4,
  "nbformat_minor": 0,
  "metadata": {
    "colab": {
      "name": "Untitled6.ipynb",
      "version": "0.3.2",
      "provenance": [],
      "include_colab_link": true
    },
    "kernelspec": {
      "name": "python3",
      "display_name": "Python 3"
    },
    "accelerator": "GPU"
  },
  "cells": [
    {
      "cell_type": "markdown",
      "metadata": {
        "id": "view-in-github",
        "colab_type": "text"
      },
      "source": [
        "<a href=\"https://colab.research.google.com/github/nishmatk/works/blob/master/digit%20recognition.ipynb\" target=\"_parent\"><img src=\"https://colab.research.google.com/assets/colab-badge.svg\" alt=\"Open In Colab\"/></a>"
      ]
    },
    {
      "cell_type": "code",
      "metadata": {
        "id": "pHoMTM12SHKA",
        "colab_type": "code",
        "colab": {
          "base_uri": "https://localhost:8080/",
          "height": 34
        },
        "outputId": "e1f5a052-de5d-4922-eca3-fa70d3681bef"
      },
      "source": [
        "# organize imports\n",
        "import numpy as np\n",
        "import matplotlib.pyplot as plt\n",
        "\n",
        "from keras.models import Sequential\n",
        "from keras.layers.core import Dense, Activation, Dropout\n",
        "from keras.datasets import mnist\n",
        "from keras.utils import np_utils\n",
        "\n",
        "# fix a random seed for reproducibility\n",
        "np.random.seed(9)"
      ],
      "execution_count": 2,
      "outputs": [
        {
          "output_type": "stream",
          "text": [
            "Using TensorFlow backend.\n"
          ],
          "name": "stderr"
        }
      ]
    },
    {
      "cell_type": "code",
      "metadata": {
        "id": "5PRCgArESMkz",
        "colab_type": "code",
        "colab": {}
      },
      "source": [
        "# user inputs\n",
        "nb_epoch = 25\n",
        "num_classes = 10\n",
        "batch_size = 128\n",
        "train_size = 60000\n",
        "test_size = 10000\n",
        "v_length = 784"
      ],
      "execution_count": 0,
      "outputs": []
    },
    {
      "cell_type": "code",
      "metadata": {
        "id": "VMIEiN7rSRi-",
        "colab_type": "code",
        "colab": {
          "base_uri": "https://localhost:8080/",
          "height": 121
        },
        "outputId": "6a632352-4ac9-4647-fd0c-70226a16bc42"
      },
      "source": [
        "# split the mnist data into train and test\n",
        "(trainData, trainLabels), (testData, testLabels) = mnist.load_data()\n",
        "print(\"[INFO] train data shape: {}\".format(trainData.shape))\n",
        "print(\"[INFO] test data shape: {}\".format(testData.shape))\n",
        "print(\"[INFO] train samples: {}\".format(trainData.shape[0]))\n",
        "print(\"[INFO] test samples: {}\".format(testData.shape[0]))"
      ],
      "execution_count": 4,
      "outputs": [
        {
          "output_type": "stream",
          "text": [
            "Downloading data from https://s3.amazonaws.com/img-datasets/mnist.npz\n",
            "11493376/11490434 [==============================] - 1s 0us/step\n",
            "[INFO] train data shape: (60000, 28, 28)\n",
            "[INFO] test data shape: (10000, 28, 28)\n",
            "[INFO] train samples: 60000\n",
            "[INFO] test samples: 10000\n"
          ],
          "name": "stdout"
        }
      ]
    },
    {
      "cell_type": "code",
      "metadata": {
        "id": "w-0zz5mzScNd",
        "colab_type": "code",
        "colab": {
          "base_uri": "https://localhost:8080/",
          "height": 86
        },
        "outputId": "6061e56a-e0d6-4dfc-960f-e27022eacd68"
      },
      "source": [
        "# reshape the dataset\n",
        "trainData = trainData.reshape(train_size, v_length)\n",
        "testData = testData.reshape(test_size, v_length)\n",
        "trainData = trainData.astype(\"float32\")\n",
        "testData = testData.astype(\"float32\")\n",
        "trainData /= 255\n",
        "testData /= 255\n",
        "\n",
        "print(\"[INFO] train data shape: {}\".format(trainData.shape))\n",
        "print(\"[INFO] test data shape: {}\".format(testData.shape))\n",
        "print(\"[INFO] train samples: {}\".format(trainData.shape[0]))\n",
        "print(\"[INFO] test samples: {}\".format(testData.shape[0]))\n"
      ],
      "execution_count": 6,
      "outputs": [
        {
          "output_type": "stream",
          "text": [
            "[INFO] train data shape: (60000, 784)\n",
            "[INFO] test data shape: (10000, 784)\n",
            "[INFO] train samples: 60000\n",
            "[INFO] test samples: 10000\n"
          ],
          "name": "stdout"
        }
      ]
    },
    {
      "cell_type": "code",
      "metadata": {
        "id": "q9HSAz9XSg5Z",
        "colab_type": "code",
        "colab": {}
      },
      "source": [
        "# convert class vectors to binary class matrices --> one-hot encoding\n",
        "mTrainLabels = np_utils.to_categorical(trainLabels, num_classes)\n",
        "mTestLabels = np_utils.to_categorical(testLabels, num_classes)"
      ],
      "execution_count": 0,
      "outputs": []
    },
    {
      "cell_type": "code",
      "metadata": {
        "id": "H4-id4WnSrfF",
        "colab_type": "code",
        "colab": {
          "base_uri": "https://localhost:8080/",
          "height": 645
        },
        "outputId": "74529497-6afb-4831-d0ab-a4144eb0785c"
      },
      "source": [
        "# create the model\n",
        "model = Sequential()\n",
        "model.add(Dense(512, input_shape=(784,)))\n",
        "model.add(Activation(\"relu\"))\n",
        "model.add(Dropout(0.2))\n",
        "model.add(Dense(256))\n",
        "model.add(Activation(\"relu\"))\n",
        "model.add(Dropout(0.2))\n",
        "model.add(Dense(num_classes))\n",
        "model.add(Activation(\"softmax\"))\n",
        "\n",
        "# summarize the model\n",
        "model.summary()"
      ],
      "execution_count": 9,
      "outputs": [
        {
          "output_type": "stream",
          "text": [
            "WARNING: Logging before flag parsing goes to stderr.\n",
            "W0731 09:09:57.314948 139764299224960 deprecation_wrapper.py:119] From /usr/local/lib/python3.6/dist-packages/keras/backend/tensorflow_backend.py:74: The name tf.get_default_graph is deprecated. Please use tf.compat.v1.get_default_graph instead.\n",
            "\n",
            "W0731 09:09:57.336416 139764299224960 deprecation_wrapper.py:119] From /usr/local/lib/python3.6/dist-packages/keras/backend/tensorflow_backend.py:517: The name tf.placeholder is deprecated. Please use tf.compat.v1.placeholder instead.\n",
            "\n",
            "W0731 09:09:57.339514 139764299224960 deprecation_wrapper.py:119] From /usr/local/lib/python3.6/dist-packages/keras/backend/tensorflow_backend.py:4138: The name tf.random_uniform is deprecated. Please use tf.random.uniform instead.\n",
            "\n",
            "W0731 09:09:57.355967 139764299224960 deprecation_wrapper.py:119] From /usr/local/lib/python3.6/dist-packages/keras/backend/tensorflow_backend.py:133: The name tf.placeholder_with_default is deprecated. Please use tf.compat.v1.placeholder_with_default instead.\n",
            "\n",
            "W0731 09:09:57.365472 139764299224960 deprecation.py:506] From /usr/local/lib/python3.6/dist-packages/keras/backend/tensorflow_backend.py:3445: calling dropout (from tensorflow.python.ops.nn_ops) with keep_prob is deprecated and will be removed in a future version.\n",
            "Instructions for updating:\n",
            "Please use `rate` instead of `keep_prob`. Rate should be set to `rate = 1 - keep_prob`.\n"
          ],
          "name": "stderr"
        },
        {
          "output_type": "stream",
          "text": [
            "_________________________________________________________________\n",
            "Layer (type)                 Output Shape              Param #   \n",
            "=================================================================\n",
            "dense_1 (Dense)              (None, 512)               401920    \n",
            "_________________________________________________________________\n",
            "activation_1 (Activation)    (None, 512)               0         \n",
            "_________________________________________________________________\n",
            "dropout_1 (Dropout)          (None, 512)               0         \n",
            "_________________________________________________________________\n",
            "dense_2 (Dense)              (None, 256)               131328    \n",
            "_________________________________________________________________\n",
            "activation_2 (Activation)    (None, 256)               0         \n",
            "_________________________________________________________________\n",
            "dropout_2 (Dropout)          (None, 256)               0         \n",
            "_________________________________________________________________\n",
            "dense_3 (Dense)              (None, 10)                2570      \n",
            "_________________________________________________________________\n",
            "activation_3 (Activation)    (None, 10)                0         \n",
            "=================================================================\n",
            "Total params: 535,818\n",
            "Trainable params: 535,818\n",
            "Non-trainable params: 0\n",
            "_________________________________________________________________\n"
          ],
          "name": "stdout"
        }
      ]
    },
    {
      "cell_type": "code",
      "metadata": {
        "id": "7K5jri4uSx24",
        "colab_type": "code",
        "colab": {
          "base_uri": "https://localhost:8080/",
          "height": 106
        },
        "outputId": "aadf3d78-d77c-4152-8672-3120654a08f9"
      },
      "source": [
        "# compile the model\n",
        "model.compile(loss=\"categorical_crossentropy\", optimizer=\"adam\", metrics=[\"accuracy\"])"
      ],
      "execution_count": 10,
      "outputs": [
        {
          "output_type": "stream",
          "text": [
            "W0731 09:10:18.163430 139764299224960 deprecation_wrapper.py:119] From /usr/local/lib/python3.6/dist-packages/keras/optimizers.py:790: The name tf.train.Optimizer is deprecated. Please use tf.compat.v1.train.Optimizer instead.\n",
            "\n",
            "W0731 09:10:18.197530 139764299224960 deprecation_wrapper.py:119] From /usr/local/lib/python3.6/dist-packages/keras/backend/tensorflow_backend.py:3295: The name tf.log is deprecated. Please use tf.math.log instead.\n",
            "\n"
          ],
          "name": "stderr"
        }
      ]
    },
    {
      "cell_type": "code",
      "metadata": {
        "id": "08RlmTPfS28Z",
        "colab_type": "code",
        "colab": {
          "base_uri": "https://localhost:8080/",
          "height": 1000
        },
        "outputId": "f97b5e46-e6b6-4375-e777-994867e352fc"
      },
      "source": [
        "# fit the model\n",
        "history = model.fit(trainData, mTrainLabels, validation_data=(testData, mTestLabels), batch_size=batch_size, nb_epoch=nb_epoch, verbose=2)\n"
      ],
      "execution_count": 11,
      "outputs": [
        {
          "output_type": "stream",
          "text": [
            "/usr/local/lib/python3.6/dist-packages/ipykernel_launcher.py:1: UserWarning: The `nb_epoch` argument in `fit` has been renamed `epochs`.\n",
            "  \"\"\"Entry point for launching an IPython kernel.\n",
            "W0731 09:10:42.113842 139764299224960 deprecation.py:323] From /usr/local/lib/python3.6/dist-packages/tensorflow/python/ops/math_grad.py:1250: add_dispatch_support.<locals>.wrapper (from tensorflow.python.ops.array_ops) is deprecated and will be removed in a future version.\n",
            "Instructions for updating:\n",
            "Use tf.where in 2.0, which has the same broadcast rule as np.where\n"
          ],
          "name": "stderr"
        },
        {
          "output_type": "stream",
          "text": [
            "Train on 60000 samples, validate on 10000 samples\n",
            "Epoch 1/25\n",
            " - 3s - loss: 0.2645 - acc: 0.9212 - val_loss: 0.1110 - val_acc: 0.9652\n",
            "Epoch 2/25\n",
            " - 2s - loss: 0.1072 - acc: 0.9674 - val_loss: 0.0844 - val_acc: 0.9728\n",
            "Epoch 3/25\n",
            " - 2s - loss: 0.0758 - acc: 0.9764 - val_loss: 0.0681 - val_acc: 0.9785\n",
            "Epoch 4/25\n",
            " - 2s - loss: 0.0574 - acc: 0.9817 - val_loss: 0.0677 - val_acc: 0.9797\n",
            "Epoch 5/25\n",
            " - 2s - loss: 0.0491 - acc: 0.9845 - val_loss: 0.0715 - val_acc: 0.9781\n",
            "Epoch 6/25\n",
            " - 2s - loss: 0.0399 - acc: 0.9868 - val_loss: 0.0614 - val_acc: 0.9816\n",
            "Epoch 7/25\n",
            " - 2s - loss: 0.0348 - acc: 0.9886 - val_loss: 0.0637 - val_acc: 0.9815\n",
            "Epoch 8/25\n",
            " - 2s - loss: 0.0303 - acc: 0.9901 - val_loss: 0.0714 - val_acc: 0.9788\n",
            "Epoch 9/25\n",
            " - 2s - loss: 0.0283 - acc: 0.9904 - val_loss: 0.0714 - val_acc: 0.9814\n",
            "Epoch 10/25\n",
            " - 2s - loss: 0.0263 - acc: 0.9911 - val_loss: 0.0662 - val_acc: 0.9829\n",
            "Epoch 11/25\n",
            " - 2s - loss: 0.0223 - acc: 0.9923 - val_loss: 0.0791 - val_acc: 0.9804\n",
            "Epoch 12/25\n",
            " - 2s - loss: 0.0208 - acc: 0.9927 - val_loss: 0.0738 - val_acc: 0.9825\n",
            "Epoch 13/25\n",
            " - 2s - loss: 0.0207 - acc: 0.9933 - val_loss: 0.0722 - val_acc: 0.9821\n",
            "Epoch 14/25\n",
            " - 2s - loss: 0.0200 - acc: 0.9931 - val_loss: 0.0743 - val_acc: 0.9829\n",
            "Epoch 15/25\n",
            " - 2s - loss: 0.0190 - acc: 0.9937 - val_loss: 0.0685 - val_acc: 0.9836\n",
            "Epoch 16/25\n",
            " - 2s - loss: 0.0141 - acc: 0.9957 - val_loss: 0.0685 - val_acc: 0.9829\n",
            "Epoch 17/25\n",
            " - 2s - loss: 0.0191 - acc: 0.9933 - val_loss: 0.0816 - val_acc: 0.9805\n",
            "Epoch 18/25\n",
            " - 2s - loss: 0.0160 - acc: 0.9946 - val_loss: 0.0781 - val_acc: 0.9817\n",
            "Epoch 19/25\n",
            " - 2s - loss: 0.0139 - acc: 0.9956 - val_loss: 0.0678 - val_acc: 0.9852\n",
            "Epoch 20/25\n",
            " - 2s - loss: 0.0162 - acc: 0.9948 - val_loss: 0.0801 - val_acc: 0.9822\n",
            "Epoch 21/25\n",
            " - 2s - loss: 0.0139 - acc: 0.9954 - val_loss: 0.0815 - val_acc: 0.9845\n",
            "Epoch 22/25\n",
            " - 2s - loss: 0.0143 - acc: 0.9955 - val_loss: 0.0768 - val_acc: 0.9835\n",
            "Epoch 23/25\n",
            " - 2s - loss: 0.0129 - acc: 0.9956 - val_loss: 0.0971 - val_acc: 0.9821\n",
            "Epoch 24/25\n",
            " - 2s - loss: 0.0148 - acc: 0.9951 - val_loss: 0.0839 - val_acc: 0.9824\n",
            "Epoch 25/25\n",
            " - 2s - loss: 0.0139 - acc: 0.9955 - val_loss: 0.0703 - val_acc: 0.9846\n"
          ],
          "name": "stdout"
        }
      ]
    },
    {
      "cell_type": "code",
      "metadata": {
        "id": "_FR_Nf5MTYAB",
        "colab_type": "code",
        "colab": {
          "base_uri": "https://localhost:8080/",
          "height": 625
        },
        "outputId": "ec4d518f-12ed-4ee3-8576-043d1b2ca727"
      },
      "source": [
        "# print the history keys\n",
        "print(history.history.keys())\n",
        "\n",
        "# evaluate the model\n",
        "scores = model.evaluate(testData, mTestLabels, verbose=0)\n",
        "\n",
        "# history plot for accuracy\n",
        "plt.plot(history.history[\"acc\"])\n",
        "plt.plot(history.history[\"val_acc\"])\n",
        "plt.title(\"Model Accuracy\")\n",
        "plt.xlabel(\"Epoch\")\n",
        "plt.ylabel(\"Accuracy\")\n",
        "plt.legend([\"train\", \"test\"], loc=\"upper left\")\n",
        "plt.show()\n",
        "\n",
        "# history plot for accuracy\n",
        "plt.plot(history.history[\"loss\"])\n",
        "plt.plot(history.history[\"val_loss\"])\n",
        "plt.title(\"Model Loss\")\n",
        "plt.xlabel(\"Epoch\")\n",
        "plt.ylabel(\"Loss\")\n",
        "plt.legend([\"train\", \"test\"], loc=\"upper left\")\n",
        "plt.show()\n",
        "\n",
        "# print the results\n",
        "print(\"[INFO] test score - {}\".format(scores[0]))\n",
        "print(\"[INFO] test accuracy - {}\".format(scores[1]))"
      ],
      "execution_count": 13,
      "outputs": [
        {
          "output_type": "stream",
          "text": [
            "dict_keys(['val_loss', 'val_acc', 'loss', 'acc'])\n"
          ],
          "name": "stdout"
        },
        {
          "output_type": "display_data",
          "data": {
            "image/png": "[encoded data removed]",
            "text/plain": [
              "<Figure size 432x288 with 1 Axes>"
            ]
          },
          "metadata": {
            "tags": []
          }
        },
        {
          "output_type": "display_data",
          "data": {
            "image/png": "[encoded data removed]",
            "text/plain": [
              "<Figure size 432x288 with 1 Axes>"
            ]
          },
          "metadata": {
            "tags": []
          }
        },
        {
          "output_type": "stream",
          "text": [
            "[INFO] test score - 0.07025549670052883\n",
            "[INFO] test accuracy - 0.9846\n"
          ],
          "name": "stdout"
        }
      ]
    },
    {
      "cell_type": "code",
      "metadata": {
        "id": "h67n97NKT7e-",
        "colab_type": "code",
        "colab": {
          "base_uri": "https://localhost:8080/",
          "height": 356
        },
        "outputId": "58400261-545f-45a7-b215-4f5a1431fe5b"
      },
      "source": [
        "import matplotlib.pyplot as plt\n",
        "\n",
        "# grab some test images from the test data\n",
        "test_images = testData[1:5]\n",
        "\n",
        "# reshape the test images to standard 28x28 format\n",
        "test_images = test_images.reshape(test_images.shape[0], 28, 28)\n",
        "print(\"[INFO] test images shape - {}\".format(test_images.shape))\n",
        "\n",
        "# loop over each of the test images\n",
        "for i, test_image in enumerate(test_images, start=1):\n",
        "\t# grab a copy of test image for viewing\n",
        "\torg_image = test_image\n",
        "\t\n",
        "\t# reshape the test image to [1x784] format so that our model understands\n",
        "\ttest_image = test_image.reshape(1,784)\n",
        "\t\n",
        "\t# make prediction on test image using our trained model\n",
        "\tprediction = model.predict_classes(test_image, verbose=0)\n",
        "\t\n",
        "\t# display the prediction and image\n",
        "\tprint(\"[INFO] I think the digit is - {}\".format(prediction[0]))\n",
        "\tplt.subplot(220+i)\n",
        "\tplt.imshow(org_image, cmap=plt.get_cmap('gray'))\n",
        "\n",
        "plt.show()\n"
      ],
      "execution_count": 21,
      "outputs": [
        {
          "output_type": "stream",
          "text": [
            "[INFO] test images shape - (4, 28, 28)\n",
            "[INFO] I think the digit is - 2\n",
            "[INFO] I think the digit is - 1\n",
            "[INFO] I think the digit is - 0\n",
            "[INFO] I think the digit is - 4\n"
          ],
          "name": "stdout"
        },
        {
          "output_type": "display_data",
          "data": {
            "image/png": "[encoded data removed]",
            "text/plain": [
              "<Figure size 432x288 with 4 Axes>"
            ]
          },
          "metadata": {
            "tags": []
          }
        }
      ]
    },
    {
      "cell_type": "markdown",
      "metadata": {
        "id": "974XzSYZU82R",
        "colab_type": "text"
      },
      "source": [
        "reffere:https://gogul09.github.io/software/digits-recognition-mlp\n"
      ]
    }
  ]
}